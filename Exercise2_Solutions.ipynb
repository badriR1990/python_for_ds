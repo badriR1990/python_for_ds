{
 "cells": [
  {
   "cell_type": "code",
   "execution_count": 2,
   "metadata": {},
   "outputs": [
    {
     "name": "stdout",
     "output_type": "stream",
     "text": [
      "Enter the Start Number:2000\n",
      "Enter the End Number:2500\n",
      "2030\n",
      "2065\n",
      "2100\n",
      "2135\n",
      "2170\n",
      "2205\n",
      "2240\n",
      "2275\n",
      "2310\n",
      "2345\n",
      "2380\n",
      "2415\n",
      "2450\n",
      "2485\n"
     ]
    }
   ],
   "source": [
    "###################################################################################################################\n",
    "#Function Name : identifyNumber\n",
    "#Function Desc : This helps in Identifying a number which is divisble by 7 and multiple of 5\n",
    "###################################################################################################################\n",
    "def identifyNumber(start,end):\n",
    "    for element in range(start,end):\n",
    "        if element%7==0 and element%5==0:\n",
    "            print(element)\n",
    "\n",
    "\n",
    "# GETTING THE INPUTS AT RUNTIME\n",
    "start = int(input(\"Enter the Start Number:\"))\n",
    "end = int(input(\"Enter the End Number:\"))\n",
    "\n",
    "\n",
    "# FUNCTION CALLING BY PASSING 2 ARGUMENTS\n",
    "identifyNumber(start,end)\n",
    "\n",
    "    "
   ]
  },
  {
   "cell_type": "code",
   "execution_count": 11,
   "metadata": {},
   "outputs": [
    {
     "name": "stdout",
     "output_type": "stream",
     "text": [
      "Enter max star to be display on single line5\n",
      "* \n",
      "* * \n",
      "* * * \n",
      "* * * * \n",
      "* * * * * \n",
      "* * * * \n",
      "* * * \n",
      "* * \n",
      "* \n",
      "\n"
     ]
    }
   ],
   "source": [
    "###################################################################################################################\n",
    "#Function Name : starPrinting\n",
    "#Function Desc : This prints star in a particular pattern\n",
    "###################################################################################################################\n",
    "def starPrinting(max_value):\n",
    "    for i in range (0, max_value):\n",
    "        for j in range(0, i + 1):\n",
    "            print(\"*\", end=' ')\n",
    "        print(\"\\r\")\n",
    "\n",
    "    for i in range (max_value, 0, -1):\n",
    "        for j in range(0, i -1):\n",
    "            print(\"*\", end=' ')\n",
    "        print(\"\\r\")\n",
    "    \n",
    "    \n",
    "# FUNCTION CALLING BY PASSING the maximum star to be printed\n",
    "maximum_star = int(input(\"Enter max star to be display on single line\"))\n",
    "starPrinting(maximum_star)\n"
   ]
  },
  {
   "cell_type": "code",
   "execution_count": 1,
   "metadata": {},
   "outputs": [
    {
     "name": "stdout",
     "output_type": "stream",
     "text": [
      "Enter the Start Number:10\n",
      "Enter the End Number:15\n",
      "Total Even Numbers => 3\n",
      "Total Odd Numbers => 2\n"
     ]
    }
   ],
   "source": [
    "###################################################################################################################\n",
    "#Function Name : findEvenOdd\n",
    "#Function Desc : This helps in finding even and odd numbers between given range of numbers\n",
    "###################################################################################################################\n",
    "def findEvenOdd(startRange,endRange):\n",
    "    # INITIALIZING VARIABLES WITH VALUES AS 0\n",
    "    even = 0\n",
    "    odd = 0\n",
    "    \n",
    "    for element in range(startRange,endRange):\n",
    "        if(element%2==0):\n",
    "            even=even+1 # INCREMENTING THE EVEN VARIABLE\n",
    "        else:\n",
    "            odd=odd+1 # INCREMENTING THE ODD VARIABLE\n",
    "    print(\"Total Even Numbers =>\",even)\n",
    "    print(\"Total Odd Numbers =>\",odd)\n",
    "\n",
    "\n",
    "\n",
    "# GETTING INPUTS AT RUNTIME\n",
    "start = int(input(\"Enter the Start Number:\"))\n",
    "end = int(input(\"Enter the End Number:\"))\n",
    "\n",
    "# FUNCTION CALLING\n",
    "findEvenOdd(start,end)"
   ]
  },
  {
   "cell_type": "code",
   "execution_count": 2,
   "metadata": {},
   "outputs": [
    {
     "name": "stdout",
     "output_type": "stream",
     "text": [
      "Enter the Start Number:200\n",
      "Enter the End Number:500\n",
      "200\n",
      "202\n",
      "204\n",
      "206\n",
      "208\n",
      "220\n",
      "222\n",
      "224\n",
      "226\n",
      "228\n",
      "240\n",
      "242\n",
      "244\n",
      "246\n",
      "248\n",
      "260\n",
      "262\n",
      "264\n",
      "266\n",
      "268\n",
      "280\n",
      "282\n",
      "284\n",
      "286\n",
      "288\n",
      "400\n",
      "402\n",
      "404\n",
      "406\n",
      "408\n",
      "420\n",
      "422\n",
      "424\n",
      "426\n",
      "428\n",
      "440\n",
      "442\n",
      "444\n",
      "446\n",
      "448\n",
      "460\n",
      "462\n",
      "464\n",
      "466\n",
      "468\n",
      "480\n",
      "482\n",
      "484\n",
      "486\n",
      "488\n"
     ]
    }
   ],
   "source": [
    "###################################################################################################################\n",
    "#Function Name : isAllEvenDigits\n",
    "#Function Desc : This helps in finding whether all the digits of a number is even or not\n",
    "###################################################################################################################\n",
    "def isAllEvenDigits(number):\n",
    "    temp_storage = number\n",
    "    flag = True\n",
    "    while number>0:\n",
    "        digit = int(number%10)\n",
    "        if digit%2!=0:\n",
    "            flag = False\n",
    "        number = int(number/10)\n",
    "        \n",
    "    if flag == True:\n",
    "        return True\n",
    "\n",
    "\n",
    "\n",
    "# GETTING INPUTS AT RUNTIME\n",
    "start = int(input(\"Enter the Start Number:\"))\n",
    "end = int(input(\"Enter the End Number:\"))\n",
    "\n",
    "\n",
    "# ITERATING FROM START RANGE TO END RANGE\n",
    "for element in range(start,end):\n",
    "    result = isAllEvenDigits(int(element))\n",
    "    if result == True:\n",
    "        print(element)\n",
    "    "
   ]
  },
  {
   "cell_type": "code",
   "execution_count": 3,
   "metadata": {},
   "outputs": [
    {
     "name": "stdout",
     "output_type": "stream",
     "text": [
      "Enter the Age : 20\n",
      "93\n"
     ]
    }
   ],
   "source": [
    "###################################################################################################################\n",
    "#Function Name : calculateDogsAge\n",
    "#Function Desc : This helps in calculating Dog's Age\n",
    "###################################################################################################################\n",
    "def calculateDogsAge(age):\n",
    "    output = 0\n",
    "    for element in range(1,age+1):\n",
    "        if element==1 or element==2:\n",
    "            output = output+10.5\n",
    "        else:\n",
    "            output = output+4\n",
    "        \n",
    "    return output\n",
    "\n",
    "\n",
    "# FETCHING AGE AS RUNTIME INPUT\n",
    "input_age = int(input(\"Enter the Age : \"))\n",
    "\n",
    "# CALLING THE FUNCTION\n",
    "result = calculateDogsAge(input_age)\n",
    "\n",
    "# PRINTING THE RESULT\n",
    "print(int(result))"
   ]
  },
  {
   "cell_type": "code",
   "execution_count": 4,
   "metadata": {},
   "outputs": [
    {
     "name": "stdout",
     "output_type": "stream",
     "text": [
      "Enter the first number : 10\n",
      "Enter the second number : 20\n",
      "Enter the third number : 5\n",
      "The Max Number is :  20\n"
     ]
    }
   ],
   "source": [
    "###################################################################################################################\n",
    "#Function Name : maxNumber\n",
    "#Function Desc : This helps in finding maximum of 3 numbers\n",
    "###################################################################################################################\n",
    "def maxNumber(num1,num2,num3):\n",
    "    if(num1==num2 and num1==num3 and num2==num3):\n",
    "        return \"nothing\"\n",
    "    elif(num1>num2 and num1>num3):\n",
    "        return num1\n",
    "    elif(num2>num1 and num2>num3):\n",
    "        return num2\n",
    "    else:\n",
    "        return num3\n",
    "    \n",
    "# FETCHING 3 NUMBERS AS RUNTIME INPUT\n",
    "num1 = int(input(\"Enter the first number : \"))\n",
    "num2 = int(input(\"Enter the second number : \"))\n",
    "num3 = int(input(\"Enter the third number : \"))\n",
    "\n",
    "# CALLING THE MAX FUNCTION\n",
    "max_number = findMax(num1,num2,num3)\n",
    "if max_number == \"nothing\":\n",
    "    print(\"All are equal\")\n",
    "else:\n",
    "    print(\"The Max Number is : \",max_number)"
   ]
  },
  {
   "cell_type": "code",
   "execution_count": 5,
   "metadata": {},
   "outputs": [
    {
     "name": "stdout",
     "output_type": "stream",
     "text": [
      "Enter a Number : 7\n",
      "Its a prime number\n"
     ]
    }
   ],
   "source": [
    "###################################################################################################################\n",
    "#Function Name : isPrime\n",
    "#Function Desc : This helps in finding whether a given number is prime or not\n",
    "###################################################################################################################\n",
    "def isPrime(num):\n",
    "    flag = True\n",
    "    for element in range(2,num):\n",
    "        remainder = num%element\n",
    "        if remainder==0:\n",
    "            flag = False\n",
    "        \n",
    "    if flag==True:\n",
    "        print(\"Its a prime number\")\n",
    "    else:\n",
    "        print(\"Its not a prime number\")\n",
    "\n",
    "\n",
    "    \n",
    "# FETCHING THE INPUT AT RUNTIME AND CALLING THE FUNCTION\n",
    "number = int(input(\"Enter a Number : \"))\n",
    "if number==0 or number==1:\n",
    "    print(\"It is neither prime nor composite\")\n",
    "else:\n",
    "    isPrime(number)"
   ]
  },
  {
   "cell_type": "code",
   "execution_count": 1,
   "metadata": {},
   "outputs": [
    {
     "name": "stdout",
     "output_type": "stream",
     "text": [
      "Enter a String : THis IS my Company\n",
      "Number of Lower case Letters :-  10\n",
      "Number of Upper case Letters :-  5\n",
      "Number of Other Characters :-  3\n"
     ]
    }
   ],
   "source": [
    "###################################################################################################################\n",
    "#Function Name : upperAndLowerCaseCalculation\n",
    "#Function Desc : This helps in finding the number of upper and lower case letters in a given String\n",
    "###################################################################################################################\n",
    "def upperAndLowerCaseCalculation(word):\n",
    "    lcase = 0\n",
    "    ucase = 0\n",
    "    others = 0\n",
    "    for element in range(0,len(word)):\n",
    "        if int(ord(str(word[element])))>96 and int(ord(str(word[element])))<123:\n",
    "            lcase = lcase+1\n",
    "        elif int(ord(str(word[element])))>64 and int(ord(str(word[element])))<91:\n",
    "            ucase = ucase+1\n",
    "        else:\n",
    "            others = others+1\n",
    "            \n",
    "    print(\"Number of Lower case Letters :- \",lcase)\n",
    "    print(\"Number of Upper case Letters :- \",ucase)\n",
    "    print(\"Number of Other Characters :- \",others)\n",
    "    \n",
    "    \n",
    "# FETCHING INPUT AT RUNTIME\n",
    "input_string = str(input(\"Enter a String : \"))\n",
    "\n",
    "# CALLING THE FUNCTION\n",
    "upperAndLowerCaseCalculation(input_string)"
   ]
  },
  {
   "cell_type": "code",
   "execution_count": 2,
   "metadata": {},
   "outputs": [
    {
     "name": "stdout",
     "output_type": "stream",
     "text": [
      "Enter the String : Freshworks\n",
      "skrowhserF\n"
     ]
    }
   ],
   "source": [
    "###################################################################################################################\n",
    "#Function Name : reverse\n",
    "#Function Desc : This helps in reversing the given String\n",
    "###################################################################################################################\n",
    "def reverse(input_string):\n",
    "    rev = \"\"\n",
    "    for element in range(len(input_string)-1,-1,-1):\n",
    "         rev = rev+input_string[element]\n",
    "    \n",
    "    print(rev)\n",
    "    \n",
    "    \n",
    "# FETCHING INPUT AT RUNTIME\n",
    "input_value = str(input(\"Enter the String : \"))\n",
    "\n",
    "# CALLING THE FUNCTION\n",
    "reverse(input_value)"
   ]
  },
  {
   "cell_type": "code",
   "execution_count": 3,
   "metadata": {},
   "outputs": [
    {
     "name": "stdout",
     "output_type": "stream",
     "text": [
      "Enter the 1st number: 12\n",
      "Enter the 2nd number: 14\n",
      "2\n"
     ]
    }
   ],
   "source": [
    "###################################################################################################################\n",
    "#Function Name : findGCD\n",
    "#Function Desc : This helps in finding the GCD of 2 numbers\n",
    "###################################################################################################################\n",
    "def findGCD(num1,num2):\n",
    "    temp=1\n",
    "    while(temp<=num1 and temp<=num2):\n",
    "        if num1%temp==0 and num2%temp==0:\n",
    "            result=temp\n",
    "        temp=temp+1\n",
    "    \n",
    "    return result\n",
    "\n",
    "\n",
    "# FETCHING INPUTS AT RUNTIME\n",
    "num1 = int(input(\"Enter the 1st number: \"))\n",
    "num2 = int(input(\"Enter the 2nd number: \"))\n",
    "\n",
    "# CALLING FUNCTION\n",
    "result = findGCD(num1,num2)\n",
    "print(result)"
   ]
  },
  {
   "cell_type": "markdown",
   "metadata": {},
   "source": [
    "##### "
   ]
  }
 ],
 "metadata": {
  "kernelspec": {
   "display_name": "Python 3",
   "language": "python",
   "name": "python3"
  },
  "language_info": {
   "codemirror_mode": {
    "name": "ipython",
    "version": 3
   },
   "file_extension": ".py",
   "mimetype": "text/x-python",
   "name": "python",
   "nbconvert_exporter": "python",
   "pygments_lexer": "ipython3",
   "version": "3.7.6"
  }
 },
 "nbformat": 4,
 "nbformat_minor": 4
}
