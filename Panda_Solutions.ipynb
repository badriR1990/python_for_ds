{
 "cells": [
  {
   "cell_type": "code",
   "execution_count": 1,
   "metadata": {},
   "outputs": [],
   "source": [
    "# IMPORTING PANDAS PACKAGE\n",
    "import pandas as pd"
   ]
  },
  {
   "cell_type": "code",
   "execution_count": 2,
   "metadata": {},
   "outputs": [
    {
     "name": "stdout",
     "output_type": "stream",
     "text": [
      "        name score  attempts qualify\n",
      "a  Anastasia  12.5         1     yes\n",
      "b       Dima     9         3      no\n",
      "c  Katherine  16.5         2     yes\n",
      "d      James   NaN         3      no\n",
      "e      Emily     9         2      no\n",
      "f    Michael    20         3     yes\n",
      "g    Matthew  14.5         1     yes\n",
      "h      Laura   NaN         1      no\n",
      "i      Kevin     8         2      no\n",
      "j      Jonas    19         1     yes\n"
     ]
    }
   ],
   "source": [
    "# QUESTION 1:- CONVERTING DICTIONARY TO DATAFRAME\n",
    "\n",
    "# INPUT DATA\n",
    "exam_data  = {'name': ['Anastasia', 'Dima', 'Katherine', 'James', 'Emily', 'Michael', 'Matthew', 'Laura', 'Kevin', 'Jonas'],\n",
    "        'score': [12.5, 9, 16.5, 'NaN', 9, 20, 14.5,'NaN', 8, 19],\n",
    "        'attempts': [1, 3, 2, 3, 2, 3, 1, 1, 2, 1],\n",
    "        'qualify': ['yes', 'no', 'yes', 'no', 'no', 'yes', 'yes', 'no', 'no', 'yes']}\n",
    "\n",
    "# CONVERTING GIVEN DICTIONARY TO DATA FRAME \n",
    "df_withIndex = pd.DataFrame(exam_data,index=['a','b','c','d','e','f','g','h','i','j'])\n",
    "\n",
    "# PRINTING THE DATAFRAME\n",
    "print(df_withIndex)"
   ]
  },
  {
   "cell_type": "code",
   "execution_count": 3,
   "metadata": {},
   "outputs": [
    {
     "name": "stdout",
     "output_type": "stream",
     "text": [
      "    name  score  attempts qualify\n",
      "j  Jonas   19.0         1     yes\n"
     ]
    }
   ],
   "source": [
    "# QUESTION 2 :- PRINT ONLY IF SCORE IS GREATER THAN 15 AND ATTEMPTS ARE LESS THAN 2\n",
    "\n",
    "\n",
    "# INPUT DATA\n",
    "exam_data  = {'name': ['Anastasia', 'Dima', 'Katherine', 'James', 'Emily', 'Michael', 'Matthew', 'Laura', 'Kevin', 'Jonas'],\n",
    "        'score': [12.5, 9, 16.5, 0 , 9, 20, 14.5, 0 , 8, 19],\n",
    "        'attempts': [1, 3, 2, 3, 2, 3, 1, 1, 2, 1],\n",
    "        'qualify': ['yes', 'no', 'yes', 'no', 'no', 'yes', 'yes', 'no', 'no', 'yes']}\n",
    "\n",
    "# CONVERTING GIVEN DICTIONARY TO DATA FRAME \n",
    "df = pd.DataFrame(exam_data,index=['a','b','c','d','e','f','g','h','i','j'])\n",
    "\n",
    "# APPLYING THE CONDITION AND STORING THE RESULT IN A NEW DATAFRAME\n",
    "result = df[(df['score']>15)&(df['attempts']<2)]\n",
    "\n",
    "# PRINTING THE RESULT\n",
    "print(result)"
   ]
  },
  {
   "cell_type": "code",
   "execution_count": 4,
   "metadata": {},
   "outputs": [
    {
     "name": "stdout",
     "output_type": "stream",
     "text": [
      "        name  score  attempts qualify\n",
      "a  Anastasia   12.5         1     yes\n",
      "b       Dima    9.0         3      no\n",
      "c  Katherine   16.5         2     yes\n",
      "d      James   11.5         3      no\n",
      "e      Emily    9.0         2      no\n",
      "f    Michael   20.0         3     yes\n",
      "g    Matthew   14.5         1     yes\n",
      "h      Laura    0.0         1      no\n",
      "i      Kevin    8.0         2      no\n",
      "j      Jonas   19.0         1     yes\n"
     ]
    }
   ],
   "source": [
    "# QUESTION 3:- REPLACE A VALUE OF SCORE AT INDEX D TO 11.5\n",
    "\n",
    "\n",
    "# INPUT DATA\n",
    "exam_data  = {'name': ['Anastasia', 'Dima', 'Katherine', 'James', 'Emily', 'Michael', 'Matthew', 'Laura', 'Kevin', 'Jonas'],\n",
    "        'score': [12.5, 9, 16.5, 0 , 9, 20, 14.5, 0 , 8, 19],\n",
    "        'attempts': [1, 3, 2, 3, 2, 3, 1, 1, 2, 1],\n",
    "        'qualify': ['yes', 'no', 'yes', 'no', 'no', 'yes', 'yes', 'no', 'no', 'yes']}\n",
    "\n",
    "# CONVERTING GIVEN DICTIONARY TO DATA FRAME \n",
    "df = pd.DataFrame(exam_data,index=['a','b','c','d','e','f','g','h','i','j'])\n",
    "\n",
    "# REPLACING THE VALUE OF SCORE AT INDEX 'D'\n",
    "df.at['d','score']=11.5\n",
    "\n",
    "# PRINTING THE DATA FRAME AFTER REPLACING\n",
    "print(df)"
   ]
  },
  {
   "cell_type": "code",
   "execution_count": 5,
   "metadata": {},
   "outputs": [
    {
     "name": "stdout",
     "output_type": "stream",
     "text": [
      "The Sum of Attempts Made by Students =  19\n"
     ]
    }
   ],
   "source": [
    "# QUESTION 4:- SUM OF ATTEMPTS MADE BY STUDENT\n",
    "\n",
    "\n",
    "# INPUT DATA\n",
    "exam_data  = {'name': ['Anastasia', 'Dima', 'Katherine', 'James', 'Emily', 'Michael', 'Matthew', 'Laura', 'Kevin', 'Jonas'],\n",
    "        'score': [12.5, 9, 16.5, 0 , 9, 20, 14.5, 0 , 8, 19],\n",
    "        'attempts': [1, 3, 2, 3, 2, 3, 1, 1, 2, 1],\n",
    "        'qualify': ['yes', 'no', 'yes', 'no', 'no', 'yes', 'yes', 'no', 'no', 'yes']}\n",
    "\n",
    "# CONVERTING GIVEN DICTIONARY TO DATA FRAME \n",
    "df = pd.DataFrame(exam_data,index=['a','b','c','d','e','f','g','h','i','j'])\n",
    "\n",
    "# CALCULATING THE SUM OF ATTEMPTS MADE BY STUDENTS\n",
    "sum_of_attempts = df['attempts'].sum()\n",
    "\n",
    "# PRINTING THE SUM OF ATTEMPTS MADE BY STUDENTS\n",
    "print(\"The Sum of Attempts Made by Students = \",sum_of_attempts)"
   ]
  },
  {
   "cell_type": "code",
   "execution_count": 6,
   "metadata": {},
   "outputs": [
    {
     "name": "stdout",
     "output_type": "stream",
     "text": [
      "   col1  col2  col3\n",
      "1     4     5     8\n",
      "3     4     7     0\n"
     ]
    }
   ],
   "source": [
    "# QUESTION 5:- PRINT ONLY THE ROWS WHICH ARE HAVING VALUE AS 4 IN COLUMN1\n",
    "\n",
    "# INPUT DATA\n",
    "d = {'col1': [1, 4, 3, 4, 5], 'col2': [4, 5, 6, 7, 8], 'col3': [7, 8, 9, 0, 1]}\n",
    "\n",
    "# CONVERTING THE INPUT DATA INTO DATAFRAME\n",
    "base_df = pd.DataFrame(d)\n",
    "\n",
    "# APPLYING THE CONDITION TO CHECK THE VALUE AS 4 IN COL1\n",
    "result_df = base_df[base_df['col1']==4]\n",
    "\n",
    "# PRINTING THE RESULTANT DATAFRAME\n",
    "print(result_df)"
   ]
  },
  {
   "cell_type": "code",
   "execution_count": 7,
   "metadata": {},
   "outputs": [
    {
     "name": "stdout",
     "output_type": "stream",
     "text": [
      "   col1  col2  col3\n",
      "0     1     4     7\n",
      "1     4     5     8\n",
      "3     4     7     0\n"
     ]
    },
    {
     "name": "stderr",
     "output_type": "stream",
     "text": [
      "/Users/badrinarayananr/opt/anaconda3/lib/python3.7/site-packages/pandas/core/indexes/base.py:3941: FutureWarning: Using a non-tuple sequence for multidimensional indexing is deprecated; use `arr[tuple(seq)]` instead of `arr[seq]`. In the future this will be interpreted as an array index, `arr[np.array(seq)]`, which will result either in an error or a different result.\n",
      "  result = getitem(key)\n"
     ]
    }
   ],
   "source": [
    "# QUESTION 6:- Drop a list of rows from a specified DataFrame\n",
    "\n",
    "# INPUT DATA\n",
    "d = {'col1': [1, 4, 3, 4, 5], 'col2': [4, 5, 6, 7, 8], 'col3': [7, 8, 9, 0, 1]}\n",
    "\n",
    "# CONVERTING THE INPUT DATA INTO DATAFRAME\n",
    "base_df = pd.DataFrame(d)\n",
    "\n",
    "# LIST\n",
    "lst = [2,4]\n",
    "\n",
    "# DROPPING THE ROWS FROM DATA FRAME BASED ON INDEX\n",
    "result_df = base_df.drop(base_df.index[[lst]])\n",
    "\n",
    "# PRINTING THE RESULTANT DATAFRAME\n",
    "print(result_df)"
   ]
  },
  {
   "cell_type": "code",
   "execution_count": 8,
   "metadata": {},
   "outputs": [
    {
     "name": "stdout",
     "output_type": "stream",
     "text": [
      "Enter the column name col4\n",
      "It is not Present -  col4\n"
     ]
    }
   ],
   "source": [
    "# QUESTION 7:- CHECK WHETHER THE GIVEN COLUMN IS PRESENT IN DATAFRAME OR NOT\n",
    "\n",
    "# INPUT DATA\n",
    "d = {'col1': [1, 2, 3, 4, 7], 'col2': [4, 5, 6, 9, 5], 'col3': [7, 8, 12, 1, 11]}\n",
    "\n",
    "# CONVERTING THE INPUT DATA INTO DATAFRAME\n",
    "df = pd.DataFrame(d)\n",
    "\n",
    "# GETTING COLUMN NAME AS RUNTIME INPUT\n",
    "column_to_check = input(\"Enter the column name \")\n",
    "\n",
    "# ASSINGING A TEMP VARIABLE WITH VALUE AS FALSE INITIALLY\n",
    "flag = False\n",
    "\n",
    "# ITERATING THE COLUMNS IN DATA FRAME AND COMPARING THE COLUMN NAMES WITH THE INPUT\n",
    "for column in df:\n",
    "    if str(column) == str(column_to_check):\n",
    "        flag = True\n",
    "        break\n",
    "        \n",
    "# VERIFYING THE VALUE OF TEMP VARIABLE AND DECIDING THE PRESENCE BASED ON THAT\n",
    "if flag == True:\n",
    "    print(\"It is Present - \",column_to_check)\n",
    "else:\n",
    "    print(\"It is not Present - \",column_to_check)"
   ]
  },
  {
   "cell_type": "code",
   "execution_count": 9,
   "metadata": {},
   "outputs": [
    {
     "name": "stdout",
     "output_type": "stream",
     "text": [
      "Enter the column name col2\n",
      "1\n"
     ]
    }
   ],
   "source": [
    "# QUESTION 8 - FETCHING THE COLUMN INDEX BASED ON COLUMN NAME\n",
    "\n",
    "# INPUT DATA\n",
    "d = {'col1': [1, 2, 3, 4, 7], 'col2': [4, 5, 6, 9, 5], 'col3': [7, 8, 12, 1, 11]}\n",
    "\n",
    "# CONVERTING THE INPUT DATA INTO DATAFRAME\n",
    "df = pd.DataFrame(d)\n",
    "\n",
    "# GETTING COLUMN NAME AS RUNTIME INPUT\n",
    "column_name = input(\"Enter the column name \")\n",
    "\n",
    "# FETCHING THE COLUMN INDEX\n",
    "print(df.columns.get_loc(str(column_name)))"
   ]
  },
  {
   "cell_type": "code",
   "execution_count": 10,
   "metadata": {},
   "outputs": [
    {
     "name": "stdout",
     "output_type": "stream",
     "text": [
      "Enter the column name col3\n",
      "   col1  col2\n",
      "0     1     4\n",
      "1     2     5\n",
      "2     3     6\n",
      "3     4     9\n",
      "4     7     5\n"
     ]
    }
   ],
   "source": [
    "# QUESTION 9 - SELECT ALL COLUMNS EXCEPT ONE COLUMN\n",
    "\n",
    "# INPUT DATA\n",
    "d = {'col1': [1, 2, 3, 4, 7], 'col2': [4, 5, 6, 9, 5], 'col3': [7, 8, 12, 1, 11]}\n",
    "\n",
    "# CONVERTING THE INPUT DATA INTO DATAFRAME\n",
    "df = pd.DataFrame(d)\n",
    "\n",
    "# GETTING COLUMN NAME AS RUNTIME INPUT\n",
    "column_name = input(\"Enter the column name \")\n",
    "\n",
    "# OMMITING THE SPECIFIC COLUMN\n",
    "result_df = df.loc[:, df.columns != str(column_name)]\n",
    "\n",
    "# PRINTING THE RESULT\n",
    "print(result_df)"
   ]
  },
  {
   "cell_type": "code",
   "execution_count": 11,
   "metadata": {},
   "outputs": [
    {
     "name": "stdout",
     "output_type": "stream",
     "text": [
      "   col1  col2  col3\n",
      "0     1     4     7\n",
      "1     2     5     8\n"
     ]
    }
   ],
   "source": [
    "#QUESTION 10 - REMOVE 'N' NUMBER OF ROWS FROM THE BOTTOM\n",
    "\n",
    "# INPUT DATA\n",
    "d = {'col1': [1, 2, 3, 4, 7], 'col2': [4, 5, 6, 9, 5], 'col3': [7, 8, 12, 1, 11]}\n",
    "\n",
    "# CONVERTING TO DATAFRAME\n",
    "df = pd.DataFrame(d)\n",
    "\n",
    "# DECIDING THE NUMBER OF ROWS TO REMOVE\n",
    "total_rows = 5\n",
    "rows_to_remove = 3\n",
    "remove = total_rows-rows_to_remove\n",
    "\n",
    "# REMOVING ROWS FROM DATAFRAME\n",
    "result_df = df.iloc[:remove]\n",
    "\n",
    "print(result_df)"
   ]
  },
  {
   "cell_type": "code",
   "execution_count": 12,
   "metadata": {},
   "outputs": [
    {
     "name": "stdout",
     "output_type": "stream",
     "text": [
      "                       Title  Runtime (Minutes)\n",
      "0    Guardians of the Galaxy                121\n",
      "1                 Prometheus                124\n",
      "2                      Split                117\n",
      "3                       Sing                108\n",
      "4              Suicide Squad                123\n",
      "..                       ...                ...\n",
      "995     Secret in Their Eyes                111\n",
      "996          Hostel: Part II                 94\n",
      "997   Step Up 2: The Streets                 98\n",
      "998             Search Party                 93\n",
      "999               Nine Lives                 87\n",
      "\n",
      "[1000 rows x 2 columns]\n"
     ]
    }
   ],
   "source": [
    "#QUESTION 11 - PRINT THE TITLE OF MOVEIS WHOSE LENGTH IS GREATER THAN 30 AND LESSER THAN 360\n",
    "\n",
    "# READING CSV DATA\n",
    "csv_data = pd.read_csv(\"https://raw.githubusercontent.com/Laxminarayen/Inceptz-Batch13-Analytics_and_Python/master/05%20-%20Day%205%20-%20Pandas%20with%20Exercises/IMDB-Movie-Data.csv\")\n",
    "\n",
    "# TAKING THE REQUIRED COLUMNS INTO A VARIABLE\n",
    "columns = csv_data.loc[:,['Title','Runtime (Minutes)']]\n",
    "\n",
    "# APPLYING THE CONDITION\n",
    "result = columns.loc[(columns['Runtime (Minutes)'] > 30) & (columns['Runtime (Minutes)'] < 360)]\n",
    "print(result)"
   ]
  },
  {
   "cell_type": "code",
   "execution_count": null,
   "metadata": {},
   "outputs": [],
   "source": []
  }
 ],
 "metadata": {
  "kernelspec": {
   "display_name": "Python 3",
   "language": "python",
   "name": "python3"
  },
  "language_info": {
   "codemirror_mode": {
    "name": "ipython",
    "version": 3
   },
   "file_extension": ".py",
   "mimetype": "text/x-python",
   "name": "python",
   "nbconvert_exporter": "python",
   "pygments_lexer": "ipython3",
   "version": "3.7.6"
  }
 },
 "nbformat": 4,
 "nbformat_minor": 4
}
