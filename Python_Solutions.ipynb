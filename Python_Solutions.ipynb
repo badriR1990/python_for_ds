{
 "cells": [
  {
   "cell_type": "code",
   "execution_count": 4,
   "metadata": {},
   "outputs": [
    {
     "name": "stdout",
     "output_type": "stream",
     "text": [
      "Python 3.8.1\r\n"
     ]
    }
   ],
   "source": [
    "!python --version"
   ]
  },
  {
   "cell_type": "code",
   "execution_count": 30,
   "metadata": {},
   "outputs": [
    {
     "name": "stdout",
     "output_type": "stream",
     "text": [
      "Actual List =>  [54, 44, 27, 79, 91, 41]\n",
      "Element at Index 4 =>  91\n",
      "List after removing Index 4 =>  [54, 44, 27, 79, 41]\n",
      "List after inserting in 2nd Position =>  [54, 44, 91, 27, 79, 41]\n",
      "List after Inserting at the end [54, 44, 91, 27, 79, 41, 91]\n"
     ]
    }
   ],
   "source": [
    "input_list = [54, 44, 27, 79, 91, 41]\n",
    "\n",
    "# Printing the List Elements as it is\n",
    "print(\"Actual List => \",input_list)\n",
    "\n",
    "# Fetching the element at index 4\n",
    "element = input_list[4]\n",
    "print(\"Element at Index 4 => \",element)\n",
    "\n",
    "# Removing the element at index 4\n",
    "input_list.remove(element)\n",
    "\n",
    "# Printing the List after removing element at Index 4\n",
    "print(\"List after removing Index 4 => \",input_list)\n",
    "\n",
    "# Adding the element to 2nd Position\n",
    "input_list.insert(2,element)\n",
    "\n",
    "# Priting the List after Inserting in 2nd Position\n",
    "print(\"List after inserting in 2nd Position => \",input_list)\n",
    "\n",
    "# Adding the element at last\n",
    "input_list.append(element)\n",
    "\n",
    "#Printing the List\n",
    "print(\"List after Inserting at the end\",input_list)"
   ]
  },
  {
   "cell_type": "code",
   "execution_count": 35,
   "metadata": {},
   "outputs": [
    {
     "name": "stdout",
     "output_type": "stream",
     "text": [
      "After Converting First List into Set =>  {2, 3, 4, 5, 6, 7, 8}\n",
      "After Converting Second List into Set =>  {64, 4, 36, 9, 16, 49, 25}\n",
      "Final Set Value is =>  {64, 2, 3, 4, 5, 6, 7, 8, 36, 9, 16, 49, 25}\n",
      "Result List after getting list of unique elements from both the lists =>  [64, 2, 3, 4, 5, 6, 7, 8, 36, 9, 16, 49, 25]\n"
     ]
    }
   ],
   "source": [
    "first_list = [2, 3, 4, 5, 6, 7, 8]\n",
    "second_list = [4, 9, 16, 25, 36, 49, 64]\n",
    "\n",
    "#Inserting the First List Elements into Set to remove Duplicates if any\n",
    "first_set = set(first_list)\n",
    "print(\"After Converting First List into Set => \",first_set)\n",
    "\n",
    "#Inserting the Second List Elements into Set to remove Duplicates if any\n",
    "second_set = set(second_list)\n",
    "print(\"After Converting Second List into Set => \",second_set)\n",
    "\n",
    "# Merging both the sets into single set\n",
    "final_set = first_set.union(second_set)\n",
    "print(\"Final Set Value is => \",final_set)\n",
    "\n",
    "# Inserting Elements from Final Set into Final List\n",
    "final_list = list(final_set)\n",
    "print(\"Result List after getting list of unique elements from both the lists => \",final_list)"
   ]
  },
  {
   "cell_type": "code",
   "execution_count": 40,
   "metadata": {},
   "outputs": [
    {
     "name": "stdout",
     "output_type": "stream",
     "text": [
      "After removing Duplicates from list =>  {44, 52, 53, 54, 87}\n",
      "After Inserting into Tuple =>  (44, 52, 53, 54, 87)\n",
      "Minimum Value is =>  44\n",
      "maximum Value is =>  87\n"
     ]
    }
   ],
   "source": [
    "input_list = [87, 52, 44, 53, 54, 87, 52, 53]\n",
    "\n",
    "# Removing Duplicates from List by Inserting the elements into Set\n",
    "set_value = set(input_list)\n",
    "print(\"After removing Duplicates from list => \",set_value)\n",
    "\n",
    "# Converting into Tuple\n",
    "tuple_value = tuple(set_value)\n",
    "print(\"After Inserting into Tuple => \",tuple_value)\n",
    "\n",
    "# Finding the Minimum Value\n",
    "min_value = min(tuple_value)\n",
    "print(\"Minimum Value is => \",min_value)\n",
    "\n",
    "# Finding the Maximum Value\n",
    "max_value = max(tuple_value)\n",
    "print(\"maximum Value is => \",max_value)"
   ]
  },
  {
   "cell_type": "code",
   "execution_count": 43,
   "metadata": {},
   "outputs": [
    {
     "name": "stdout",
     "output_type": "stream",
     "text": [
      "Printing the letters Seperately from Given String =>  w h a t ' s   u p ?\n",
      "Length of Input String is =>  10\n"
     ]
    }
   ],
   "source": [
    "str = \"what's up?\"\n",
    "\n",
    "# Print each word Seperately\n",
    "print(\"Printing the letters Seperately from Given String => \",*str)\n",
    "\n",
    "# Length of String\n",
    "print(\"Length of Input String is => \",len(str))"
   ]
  },
  {
   "cell_type": "code",
   "execution_count": 52,
   "metadata": {},
   "outputs": [
    {
     "name": "stdout",
     "output_type": "stream",
     "text": [
      "physics\n"
     ]
    }
   ],
   "source": [
    "input_dict = {'physics': 80, 'math': 90, 'chemistry': 86}\n",
    "\n",
    "# Printing the First Key of Dictionary\n",
    "print(list(input_dict)[0])"
   ]
  },
  {
   "cell_type": "code",
   "execution_count": null,
   "metadata": {},
   "outputs": [],
   "source": []
  }
 ],
 "metadata": {
  "kernelspec": {
   "display_name": "Python 3",
   "language": "python",
   "name": "python3"
  },
  "language_info": {
   "codemirror_mode": {
    "name": "ipython",
    "version": 3
   },
   "file_extension": ".py",
   "mimetype": "text/x-python",
   "name": "python",
   "nbconvert_exporter": "python",
   "pygments_lexer": "ipython3",
   "version": "3.7.6"
  }
 },
 "nbformat": 4,
 "nbformat_minor": 4
}
